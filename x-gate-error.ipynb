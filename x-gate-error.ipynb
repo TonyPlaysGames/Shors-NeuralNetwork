{
 "cells": [
  {
   "cell_type": "code",
   "execution_count": 2,
   "metadata": {},
   "outputs": [],
   "source": [
    "import matplotlib.pyplot as plt\n",
    "import random\n",
    "from qiskit import QuantumCircuit, QuantumRegister, ClassicalRegister, AncillaRegister, execute, Aer, visualization"
   ]
  },
  {
   "cell_type": "code",
   "execution_count": 3,
   "metadata": {},
   "outputs": [],
   "source": [
    "\n",
    "def createLogicalQubits(numLogicalQubits):\n",
    "    logicalQubits = []\n",
    "\n",
    "    for qubit in range(numLogicalQubits):\n",
    "\n",
    "        physicalQubits = []\n",
    "\n",
    "        q0 = QuantumRegister(3, name='L' + str((qubit + 1)) + 'code0')\n",
    "        physicalQubits.append(q0)\n",
    "\n",
    "        q1 = QuantumRegister(3, name='L' + str((qubit + 1)) + 'code1')\n",
    "        physicalQubits.append(q1)\n",
    "        \n",
    "        q2 = QuantumRegister(3, name='L' + str((qubit + 1)) + 'code2')\n",
    "        physicalQubits.append(q2)\n",
    "\n",
    "        physicalQubits.append(AncillaRegister(2, name='L' + str((qubit + 1)) + 'Z'))\n",
    "        physicalQubits.append(AncillaRegister(2, name='L' + str((qubit + 1)) + 'X'))\n",
    "\n",
    "        # For testing code qubits\n",
    "        # physicalQubits.append(ClassicalRegister(3, name='L' + str(qubit +1) + 'code0meas'))\n",
    "        # physicalQubits.append(ClassicalRegister(3, name='L' + str(qubit +1) + 'code1meas'))\n",
    "        # physicalQubits.append(ClassicalRegister(3, name='L' + str(qubit +1) + 'code2meas'))\n",
    "        # physicalQubits.append(ClassicalRegister(1, name='Output' + str(qubit +1) + ''))\n",
    "\n",
    "        physicalQubits.append(ClassicalRegister(2, name='L' + str(qubit +1) + 'Zmeas'))\n",
    "        physicalQubits.append(ClassicalRegister(2, name='L' + str(qubit +1) + 'Xmeas'))\n",
    "\n",
    "        logicalQubits.append(physicalQubits)\n",
    "    \n",
    "    return (QuantumCircuit(*[pqubit for lqubit in logicalQubits for pqubit in lqubit]), logicalQubits)"
   ]
  },
  {
   "cell_type": "code",
   "execution_count": 4,
   "metadata": {},
   "outputs": [],
   "source": [
    "def getQuibitArray(logicalQubitNumber, qc):\n",
    "    qubits = []\n",
    "    ancillae = []\n",
    "\n",
    "    logicalQubitNumber = logicalQubitNumber - 1\n",
    "    logicalQubit = qc[logicalQubitNumber]\n",
    "\n",
    "    for qRegister in range(3):\n",
    "        for qubit in range(3):\n",
    "            qubits.append(logicalQubit[qRegister][qubit])\n",
    "\n",
    "    for aRegister in range(2):\n",
    "        for ancilla in range(2):\n",
    "            ancillae.append(logicalQubit[aRegister+3][ancilla])\n",
    "\n",
    "    return qubits, ancillae"
   ]
  },
  {
   "cell_type": "code",
   "execution_count": 5,
   "metadata": {},
   "outputs": [],
   "source": [
    "def applyEncoder(circuit, qubits):\n",
    "    for qubit in range(len(qubits)):\n",
    "        circuit.h([qubits[qubit][0][0], qubits[qubit][1][0], qubits[qubit][2][0]])\n",
    "        for i in range(3):\n",
    "            circuit.cx(qubits[qubit][i][0], qubits[qubit][i][1])\n",
    "            circuit.cx(qubits[qubit][i][0], qubits[qubit][i][2])\n",
    "            circuit.h([qubits[qubit][i][0], qubits[qubit][i][1], qubits[qubit][i][2]])\n",
    "    circuit.barrier()"
   ]
  },
  {
   "cell_type": "code",
   "execution_count": 6,
   "metadata": {},
   "outputs": [],
   "source": [
    "\"\"\" def applyXDetection(circuit, qubits):\n",
    "    for qubit in range(len(qubits)):\n",
    "        circuit.h([qubits[qubit][4][0], qubits[qubit][4][1]])\n",
    "        for i in range(2):\n",
    "            for j in range(9):\n",
    "                if i == 0:\n",
    "                    if j % 3 != 2:\n",
    "                        circuit.cx(qubits[qubit][4][0], qubits[qubit][j // 3][j % 3])\n",
    "                else:\n",
    "                    if j % 3 != 0:\n",
    "                        circuit.cx(qubits[qubit][4][1], qubits[qubit][j // 3][j % 3])\n",
    "        circuit.h([qubits[qubit][4][0], qubits[qubit][4][1]])\n",
    "    circuit.barrier() \"\"\"\n",
    "\n",
    "def x_stabilizers(gate_label = '   X Stabilizers'):\n",
    "    gate = QuantumCircuit(11, name = gate_label)\n",
    "\n",
    "    #Each represents a qubit we will get measurement from\n",
    "    cxA = [0,1,3,4,6,7]\n",
    "    cxB = [1,2,4,5,7,8]\n",
    "\n",
    "    gate.h([9,10])\n",
    "\n",
    "    for qubit in cxA:\n",
    "        gate.cx(9, qubit)\n",
    "        \n",
    "    for qubit in cxB:\n",
    "        gate.cx(10, qubit)\n",
    "\n",
    "    gate.h([9,10])\n",
    "\n",
    "    return gate"
   ]
  },
  {
   "cell_type": "code",
   "execution_count": 7,
   "metadata": {},
   "outputs": [],
   "source": [
    "\"\"\" def applyZDetection(circuit, qubits):\n",
    "    for qubit in range(len(qubits)):\n",
    "        for i in range(2):\n",
    "            for j in range(3):\n",
    "                circuit.cx(qubits[qubit][i][j], qubits[qubit][3][0])\n",
    "        for i in range(1, 3):\n",
    "            for j in range(3):\n",
    "                circuit.cx(qubits[qubit][i][j], qubits[qubit][3][1])\n",
    "    circuit.barrier() \"\"\"\n",
    "\n",
    "def z_stabilizers(gate_label = '   Z Stabilizers'):\n",
    "    gate = QuantumCircuit(11, name = gate_label)\n",
    "\n",
    "    #Each represents a qubit we will get measurement from\n",
    "    cxA = [0,3,1,4,2,5]\n",
    "    cxB = [3,6,4,7,5,8]\n",
    "\n",
    "    for qubit in cxA:\n",
    "        gate.cx(qubit, 9)\n",
    "        \n",
    "    for qubit in cxB:\n",
    "        gate.cx(qubit, 10)\n",
    "\n",
    "    return gate\n"
   ]
  },
  {
   "cell_type": "code",
   "execution_count": 8,
   "metadata": {},
   "outputs": [],
   "source": [
    "def applyMeasurements(circuit, qubits):\n",
    "    for qubit in range(len(qubits)):\n",
    "        for i in range(3, 5):\n",
    "            for j in range(2):\n",
    "                # For testing both code and ancilla qubits\n",
    "                # circuit.measure(qubits[qubit][i][j], qubits[qubit][i + 5][j])\n",
    "                circuit.measure(qubits[qubit][i][j], qubits[qubit][i + 2][j])"
   ]
  },
  {
   "cell_type": "code",
   "execution_count": 9,
   "metadata": {},
   "outputs": [],
   "source": [
    "def applyCodeMeasurements(circuit, qubits):\n",
    "    for qubit in range(len(qubits)):\n",
    "        for i in range(3):\n",
    "            for j in range(3):\n",
    "                circuit.measure(qubits[qubit][i][j], qubits[qubit][i + 5][j])\n",
    "\n",
    "def applyMeasurement(circuit, qubits, outputBits):\n",
    "    for i, qubit in enumerate(qubits):\n",
    "        circuit.measure(qubit, outputBits[i])\n",
    "             "
   ]
  },
  {
   "cell_type": "code",
   "execution_count": 10,
   "metadata": {},
   "outputs": [],
   "source": [
    "def applyrandomError(circuit, qubits):\n",
    "    for qubit in range(len(qubits)):\n",
    "        x = random.randint(0, 2)\n",
    "        y = random.randint(0, 2)\n",
    "        # circuit.h(qubits[qubit][x][y])\n",
    "        circuit.z(qubits[qubit][0][1])\n",
    "        # circuit.x(qubits[qubit][x][y])\n",
    "    circuit.barrier()"
   ]
  },
  {
   "cell_type": "code",
   "execution_count": 11,
   "metadata": {},
   "outputs": [],
   "source": [
    "def correction(gate_label = '  Correction'):\n",
    "    gate = QuantumCircuit(3, name = gate_label)\n",
    "\n",
    "    gate.cx(0,1)\n",
    "    gate.cx(0,2)\n",
    "    gate.ccx(1,2,0)\n",
    "\n",
    "    return gate\n",
    "\n",
    "def applyCorrection(qc, qubitArray):\n",
    "    for LQubits in qubitArray:\n",
    "        qc.append(correction(), LQubits[:3])\n",
    "        qc.append(correction(), LQubits[3:6])\n",
    "        qc.append(correction(), LQubits[-3:])\n",
    "        qc.h([LQubits[0],LQubits[3],LQubits[6]])\n",
    "        qc.append(correction(), [LQubits[0],LQubits[3],LQubits[6]])\n"
   ]
  },
  {
   "cell_type": "code",
   "execution_count": 16,
   "metadata": {},
   "outputs": [
    {
     "ename": "CircuitError",
     "evalue": "\"Invalid bit index: '[QuantumRegister(3, 'L1code0'), QuantumRegister(3, 'L1code1'), QuantumRegister(3, 'L1code2'), AncillaRegister(2, 'L1Z'), AncillaRegister(2, 'L1X'), ClassicalRegister(2, 'L1Zmeas'), ClassicalRegister(2, 'L1Xmeas')]' of type '<class 'list'>'\"",
     "output_type": "error",
     "traceback": [
      "\u001b[0;31m---------------------------------------------------------------------------\u001b[0m",
      "\u001b[0;31mCircuitError\u001b[0m                              Traceback (most recent call last)",
      "Cell \u001b[0;32mIn[16], line 22\u001b[0m\n\u001b[1;32m     16\u001b[0m qc\u001b[39m.\u001b[39mbarrier() \n\u001b[1;32m     18\u001b[0m \u001b[39m#Apply correction based on ????\u001b[39;00m\n\u001b[1;32m     19\u001b[0m \u001b[39m# applyCorrection(qc, [L1Qubits, L2Qubits])\u001b[39;00m\n\u001b[1;32m     20\u001b[0m \u001b[39m# qc.barrier()\u001b[39;00m\n\u001b[0;32m---> 22\u001b[0m qc\u001b[39m.\u001b[39;49mh([qubit \u001b[39mfor\u001b[39;49;00m i \u001b[39min\u001b[39;49;00m \u001b[39mrange\u001b[39;49m(\u001b[39m3\u001b[39;49m) \u001b[39mfor\u001b[39;49;00m j \u001b[39min\u001b[39;49;00m \u001b[39mrange\u001b[39;49m(\u001b[39m3\u001b[39;49m) \u001b[39mfor\u001b[39;49;00m qubit \u001b[39min\u001b[39;49;00m qubits])\n\u001b[1;32m     23\u001b[0m qc\u001b[39m.\u001b[39mbarrier()\n\u001b[1;32m     26\u001b[0m \u001b[39m#Show gates for reference\u001b[39;00m\n\u001b[1;32m     27\u001b[0m \u001b[39m#display(x_stabilizers().draw(output='mpl'))\u001b[39;00m\n\u001b[1;32m     28\u001b[0m \u001b[39m#display(z_stabilizers().draw(output='mpl'))\u001b[39;00m\n\u001b[0;32m   (...)\u001b[0m\n\u001b[1;32m     31\u001b[0m \u001b[39m# applyMeasurement(qc, [L1Qubits[0], L2Qubits[0]], [qubits[0][5][0], qubits[1][5][0]])\u001b[39;00m\n\u001b[1;32m     32\u001b[0m \u001b[39m#applyCodeMeasurements(qc, qubits)\u001b[39;00m\n",
      "File \u001b[0;32m/Library/Frameworks/Python.framework/Versions/3.9/lib/python3.9/site-packages/qiskit/circuit/quantumcircuit.py:3015\u001b[0m, in \u001b[0;36mQuantumCircuit.h\u001b[0;34m(self, qubit)\u001b[0m\n\u001b[1;32m   3003\u001b[0m \u001b[39m\u001b[39m\u001b[39m\"\"\"Apply :class:`~qiskit.circuit.library.HGate`.\u001b[39;00m\n\u001b[1;32m   3004\u001b[0m \n\u001b[1;32m   3005\u001b[0m \u001b[39mFor the full matrix form of this gate, see the underlying gate documentation.\u001b[39;00m\n\u001b[0;32m   (...)\u001b[0m\n\u001b[1;32m   3011\u001b[0m \u001b[39m    A handle to the instructions created.\u001b[39;00m\n\u001b[1;32m   3012\u001b[0m \u001b[39m\"\"\"\u001b[39;00m\n\u001b[1;32m   3013\u001b[0m \u001b[39mfrom\u001b[39;00m \u001b[39m.\u001b[39;00m\u001b[39mlibrary\u001b[39;00m\u001b[39m.\u001b[39;00m\u001b[39mstandard_gates\u001b[39;00m\u001b[39m.\u001b[39;00m\u001b[39mh\u001b[39;00m \u001b[39mimport\u001b[39;00m HGate\n\u001b[0;32m-> 3015\u001b[0m \u001b[39mreturn\u001b[39;00m \u001b[39mself\u001b[39;49m\u001b[39m.\u001b[39;49mappend(HGate(), [qubit], [])\n",
      "File \u001b[0;32m/Library/Frameworks/Python.framework/Versions/3.9/lib/python3.9/site-packages/qiskit/circuit/quantumcircuit.py:1302\u001b[0m, in \u001b[0;36mQuantumCircuit.append\u001b[0;34m(self, instruction, qargs, cargs)\u001b[0m\n\u001b[1;32m   1299\u001b[0m     \u001b[39mif\u001b[39;00m is_parameter:\n\u001b[1;32m   1300\u001b[0m         operation \u001b[39m=\u001b[39m copy\u001b[39m.\u001b[39mdeepcopy(operation)\n\u001b[0;32m-> 1302\u001b[0m expanded_qargs \u001b[39m=\u001b[39m [\u001b[39mself\u001b[39m\u001b[39m.\u001b[39mqbit_argument_conversion(qarg) \u001b[39mfor\u001b[39;00m qarg \u001b[39min\u001b[39;00m qargs \u001b[39mor\u001b[39;00m []]\n\u001b[1;32m   1303\u001b[0m expanded_cargs \u001b[39m=\u001b[39m [\u001b[39mself\u001b[39m\u001b[39m.\u001b[39mcbit_argument_conversion(carg) \u001b[39mfor\u001b[39;00m carg \u001b[39min\u001b[39;00m cargs \u001b[39mor\u001b[39;00m []]\n\u001b[1;32m   1305\u001b[0m \u001b[39mif\u001b[39;00m \u001b[39mself\u001b[39m\u001b[39m.\u001b[39m_control_flow_scopes:\n",
      "File \u001b[0;32m/Library/Frameworks/Python.framework/Versions/3.9/lib/python3.9/site-packages/qiskit/circuit/quantumcircuit.py:1302\u001b[0m, in \u001b[0;36m<listcomp>\u001b[0;34m(.0)\u001b[0m\n\u001b[1;32m   1299\u001b[0m     \u001b[39mif\u001b[39;00m is_parameter:\n\u001b[1;32m   1300\u001b[0m         operation \u001b[39m=\u001b[39m copy\u001b[39m.\u001b[39mdeepcopy(operation)\n\u001b[0;32m-> 1302\u001b[0m expanded_qargs \u001b[39m=\u001b[39m [\u001b[39mself\u001b[39;49m\u001b[39m.\u001b[39;49mqbit_argument_conversion(qarg) \u001b[39mfor\u001b[39;00m qarg \u001b[39min\u001b[39;00m qargs \u001b[39mor\u001b[39;00m []]\n\u001b[1;32m   1303\u001b[0m expanded_cargs \u001b[39m=\u001b[39m [\u001b[39mself\u001b[39m\u001b[39m.\u001b[39mcbit_argument_conversion(carg) \u001b[39mfor\u001b[39;00m carg \u001b[39min\u001b[39;00m cargs \u001b[39mor\u001b[39;00m []]\n\u001b[1;32m   1305\u001b[0m \u001b[39mif\u001b[39;00m \u001b[39mself\u001b[39m\u001b[39m.\u001b[39m_control_flow_scopes:\n",
      "File \u001b[0;32m/Library/Frameworks/Python.framework/Versions/3.9/lib/python3.9/site-packages/qiskit/circuit/quantumcircuit.py:1183\u001b[0m, in \u001b[0;36mQuantumCircuit.qbit_argument_conversion\u001b[0;34m(self, qubit_representation)\u001b[0m\n\u001b[1;32m   1172\u001b[0m \u001b[39mdef\u001b[39;00m \u001b[39mqbit_argument_conversion\u001b[39m(\u001b[39mself\u001b[39m, qubit_representation: QubitSpecifier) \u001b[39m-\u001b[39m\u001b[39m>\u001b[39m \u001b[39mlist\u001b[39m[Qubit]:\n\u001b[1;32m   1173\u001b[0m \u001b[39m    \u001b[39m\u001b[39m\"\"\"\u001b[39;00m\n\u001b[1;32m   1174\u001b[0m \u001b[39m    Converts several qubit representations (such as indexes, range, etc.)\u001b[39;00m\n\u001b[1;32m   1175\u001b[0m \u001b[39m    into a list of qubits.\u001b[39;00m\n\u001b[0;32m   (...)\u001b[0m\n\u001b[1;32m   1181\u001b[0m \u001b[39m        List(Qubit): the resolved instances of the qubits.\u001b[39;00m\n\u001b[1;32m   1182\u001b[0m \u001b[39m    \"\"\"\u001b[39;00m\n\u001b[0;32m-> 1183\u001b[0m     \u001b[39mreturn\u001b[39;00m _bit_argument_conversion(\n\u001b[1;32m   1184\u001b[0m         qubit_representation, \u001b[39mself\u001b[39;49m\u001b[39m.\u001b[39;49mqubits, \u001b[39mself\u001b[39;49m\u001b[39m.\u001b[39;49m_qubit_indices, Qubit\n\u001b[1;32m   1185\u001b[0m     )\n",
      "File \u001b[0;32m/Library/Frameworks/Python.framework/Versions/3.9/lib/python3.9/site-packages/qiskit/circuit/quantumcircuit.py:5146\u001b[0m, in \u001b[0;36m_bit_argument_conversion\u001b[0;34m(specifier, bit_sequence, bit_set, type_)\u001b[0m\n\u001b[1;32m   5144\u001b[0m     \u001b[39mreturn\u001b[39;00m bit_sequence[specifier]\n\u001b[1;32m   5145\u001b[0m \u001b[39mtry\u001b[39;00m:\n\u001b[0;32m-> 5146\u001b[0m     \u001b[39mreturn\u001b[39;00m [\n\u001b[1;32m   5147\u001b[0m         _bit_argument_conversion_scalar(index, bit_sequence, bit_set, type_)\n\u001b[1;32m   5148\u001b[0m         \u001b[39mfor\u001b[39;00m index \u001b[39min\u001b[39;00m specifier\n\u001b[1;32m   5149\u001b[0m     ]\n\u001b[1;32m   5150\u001b[0m \u001b[39mexcept\u001b[39;00m \u001b[39mTypeError\u001b[39;00m \u001b[39mas\u001b[39;00m ex:\n\u001b[1;32m   5151\u001b[0m     message \u001b[39m=\u001b[39m (\n\u001b[1;32m   5152\u001b[0m         \u001b[39mf\u001b[39m\u001b[39m\"\u001b[39m\u001b[39mIncorrect bit type: expected \u001b[39m\u001b[39m'\u001b[39m\u001b[39m{\u001b[39;00mtype_\u001b[39m.\u001b[39m\u001b[39m__name__\u001b[39m\u001b[39m}\u001b[39;00m\u001b[39m'\u001b[39m\u001b[39m but got \u001b[39m\u001b[39m'\u001b[39m\u001b[39m{\u001b[39;00m\u001b[39mtype\u001b[39m(specifier)\u001b[39m.\u001b[39m\u001b[39m__name__\u001b[39m\u001b[39m}\u001b[39;00m\u001b[39m'\u001b[39m\u001b[39m\"\u001b[39m\n\u001b[1;32m   5153\u001b[0m         \u001b[39mif\u001b[39;00m \u001b[39misinstance\u001b[39m(specifier, Bit)\n\u001b[1;32m   5154\u001b[0m         \u001b[39melse\u001b[39;00m \u001b[39mf\u001b[39m\u001b[39m\"\u001b[39m\u001b[39mInvalid bit index: \u001b[39m\u001b[39m'\u001b[39m\u001b[39m{\u001b[39;00mspecifier\u001b[39m}\u001b[39;00m\u001b[39m'\u001b[39m\u001b[39m of type \u001b[39m\u001b[39m'\u001b[39m\u001b[39m{\u001b[39;00m\u001b[39mtype\u001b[39m(specifier)\u001b[39m}\u001b[39;00m\u001b[39m'\u001b[39m\u001b[39m\"\u001b[39m\n\u001b[1;32m   5155\u001b[0m     )\n",
      "File \u001b[0;32m/Library/Frameworks/Python.framework/Versions/3.9/lib/python3.9/site-packages/qiskit/circuit/quantumcircuit.py:5147\u001b[0m, in \u001b[0;36m<listcomp>\u001b[0;34m(.0)\u001b[0m\n\u001b[1;32m   5144\u001b[0m     \u001b[39mreturn\u001b[39;00m bit_sequence[specifier]\n\u001b[1;32m   5145\u001b[0m \u001b[39mtry\u001b[39;00m:\n\u001b[1;32m   5146\u001b[0m     \u001b[39mreturn\u001b[39;00m [\n\u001b[0;32m-> 5147\u001b[0m         _bit_argument_conversion_scalar(index, bit_sequence, bit_set, type_)\n\u001b[1;32m   5148\u001b[0m         \u001b[39mfor\u001b[39;00m index \u001b[39min\u001b[39;00m specifier\n\u001b[1;32m   5149\u001b[0m     ]\n\u001b[1;32m   5150\u001b[0m \u001b[39mexcept\u001b[39;00m \u001b[39mTypeError\u001b[39;00m \u001b[39mas\u001b[39;00m ex:\n\u001b[1;32m   5151\u001b[0m     message \u001b[39m=\u001b[39m (\n\u001b[1;32m   5152\u001b[0m         \u001b[39mf\u001b[39m\u001b[39m\"\u001b[39m\u001b[39mIncorrect bit type: expected \u001b[39m\u001b[39m'\u001b[39m\u001b[39m{\u001b[39;00mtype_\u001b[39m.\u001b[39m\u001b[39m__name__\u001b[39m\u001b[39m}\u001b[39;00m\u001b[39m'\u001b[39m\u001b[39m but got \u001b[39m\u001b[39m'\u001b[39m\u001b[39m{\u001b[39;00m\u001b[39mtype\u001b[39m(specifier)\u001b[39m.\u001b[39m\u001b[39m__name__\u001b[39m\u001b[39m}\u001b[39;00m\u001b[39m'\u001b[39m\u001b[39m\"\u001b[39m\n\u001b[1;32m   5153\u001b[0m         \u001b[39mif\u001b[39;00m \u001b[39misinstance\u001b[39m(specifier, Bit)\n\u001b[1;32m   5154\u001b[0m         \u001b[39melse\u001b[39;00m \u001b[39mf\u001b[39m\u001b[39m\"\u001b[39m\u001b[39mInvalid bit index: \u001b[39m\u001b[39m'\u001b[39m\u001b[39m{\u001b[39;00mspecifier\u001b[39m}\u001b[39;00m\u001b[39m'\u001b[39m\u001b[39m of type \u001b[39m\u001b[39m'\u001b[39m\u001b[39m{\u001b[39;00m\u001b[39mtype\u001b[39m(specifier)\u001b[39m}\u001b[39;00m\u001b[39m'\u001b[39m\u001b[39m\"\u001b[39m\n\u001b[1;32m   5155\u001b[0m     )\n",
      "File \u001b[0;32m/Library/Frameworks/Python.framework/Versions/3.9/lib/python3.9/site-packages/qiskit/circuit/quantumcircuit.py:5176\u001b[0m, in \u001b[0;36m_bit_argument_conversion_scalar\u001b[0;34m(specifier, bit_sequence, bit_set, type_)\u001b[0m\n\u001b[1;32m   5168\u001b[0m         \u001b[39mraise\u001b[39;00m CircuitError(\n\u001b[1;32m   5169\u001b[0m             \u001b[39mf\u001b[39m\u001b[39m\"\u001b[39m\u001b[39mIndex \u001b[39m\u001b[39m{\u001b[39;00mspecifier\u001b[39m}\u001b[39;00m\u001b[39m out of range for size \u001b[39m\u001b[39m{\u001b[39;00m\u001b[39mlen\u001b[39m(bit_sequence)\u001b[39m}\u001b[39;00m\u001b[39m.\u001b[39m\u001b[39m\"\u001b[39m\n\u001b[1;32m   5170\u001b[0m         ) \u001b[39mfrom\u001b[39;00m \u001b[39mex\u001b[39;00m\n\u001b[1;32m   5171\u001b[0m message \u001b[39m=\u001b[39m (\n\u001b[1;32m   5172\u001b[0m     \u001b[39mf\u001b[39m\u001b[39m\"\u001b[39m\u001b[39mIncorrect bit type: expected \u001b[39m\u001b[39m'\u001b[39m\u001b[39m{\u001b[39;00mtype_\u001b[39m.\u001b[39m\u001b[39m__name__\u001b[39m\u001b[39m}\u001b[39;00m\u001b[39m'\u001b[39m\u001b[39m but got \u001b[39m\u001b[39m'\u001b[39m\u001b[39m{\u001b[39;00m\u001b[39mtype\u001b[39m(specifier)\u001b[39m.\u001b[39m\u001b[39m__name__\u001b[39m\u001b[39m}\u001b[39;00m\u001b[39m'\u001b[39m\u001b[39m\"\u001b[39m\n\u001b[1;32m   5173\u001b[0m     \u001b[39mif\u001b[39;00m \u001b[39misinstance\u001b[39m(specifier, Bit)\n\u001b[1;32m   5174\u001b[0m     \u001b[39melse\u001b[39;00m \u001b[39mf\u001b[39m\u001b[39m\"\u001b[39m\u001b[39mInvalid bit index: \u001b[39m\u001b[39m'\u001b[39m\u001b[39m{\u001b[39;00mspecifier\u001b[39m}\u001b[39;00m\u001b[39m'\u001b[39m\u001b[39m of type \u001b[39m\u001b[39m'\u001b[39m\u001b[39m{\u001b[39;00m\u001b[39mtype\u001b[39m(specifier)\u001b[39m}\u001b[39;00m\u001b[39m'\u001b[39m\u001b[39m\"\u001b[39m\n\u001b[1;32m   5175\u001b[0m )\n\u001b[0;32m-> 5176\u001b[0m \u001b[39mraise\u001b[39;00m CircuitError(message)\n",
      "\u001b[0;31mCircuitError\u001b[0m: \"Invalid bit index: '[QuantumRegister(3, 'L1code0'), QuantumRegister(3, 'L1code1'), QuantumRegister(3, 'L1code2'), AncillaRegister(2, 'L1Z'), AncillaRegister(2, 'L1X'), ClassicalRegister(2, 'L1Zmeas'), ClassicalRegister(2, 'L1Xmeas')]' of type '<class 'list'>'\""
     ]
    }
   ],
   "source": [
    "qc, qubits = createLogicalQubits(2)\n",
    "L1Qubits, L1Ancilla = getQuibitArray(1, qubits) \n",
    "L2Qubits, L2Ancilla = getQuibitArray(2, qubits) \n",
    "\n",
    "applyEncoder(qc, qubits)\n",
    "#applyrandomError(qc, qubits)\n",
    "\n",
    "#Apply X stabalizers to ancilla\n",
    "qc.append(x_stabilizers(), L1Qubits + L1Ancilla[-2:])\n",
    "qc.append(x_stabilizers(), L2Qubits + L2Ancilla[-2:])\n",
    "qc.barrier() \n",
    "\n",
    "#Apply Z stabalizers to ancilla\n",
    "qc.append(z_stabilizers(), L1Qubits + L1Ancilla[:2])\n",
    "qc.append(z_stabilizers(), L2Qubits + L2Ancilla[:2])\n",
    "qc.barrier() \n",
    "\n",
    "#Apply correction based on ????\n",
    "# applyCorrection(qc, [L1Qubits, L2Qubits])\n",
    "# qc.barrier()\n",
    "\n",
    "qc.h([qubit for i in range(3) for j in range(3) for qubit in qubits])\n",
    "qc.barrier()\n",
    "\n",
    "\n",
    "#Show gates for reference\n",
    "#display(x_stabilizers().draw(output='mpl'))\n",
    "#display(z_stabilizers().draw(output='mpl'))\n",
    "#display(correction().draw(output='mpl'))\n",
    "\n",
    "# applyMeasurement(qc, [L1Qubits[0], L2Qubits[0]], [qubits[0][5][0], qubits[1][5][0]])\n",
    "#applyCodeMeasurements(qc, qubits)\n",
    "applyMeasurements(qc, qubits)\n",
    "qc.draw(output='mpl', fold=45)"
   ]
  },
  {
   "cell_type": "code",
   "execution_count": 13,
   "metadata": {},
   "outputs": [
    {
     "data": {
      "image/png": "[encoded data removed]",
      "text/plain": [
       "<Figure size 700x500 with 1 Axes>"
      ]
     },
     "execution_count": 13,
     "metadata": {},
     "output_type": "execute_result"
    }
   ],
   "source": [
    "sim = Aer.get_backend('qasm_simulator')\n",
    "job = execute(qc, sim, shots=25)\n",
    "result = job.result()\n",
    "counts = result.get_counts(qc)\n",
    "# X stabilizers: If 01 => error is in first block of 3 code qubits, if 11 => error is in second block of 3 code qubits, if 10 => error is in third block of 3 code qubits\n",
    "# Z stabilizers: If 01 => error is on 1st, 4th or 7th code qubit, if 11 => error is on 2nd, 5th or 8th code qubit, if 10 => error is on 3rd, 6th or 9th code qubit\n",
    "visualization.plot_histogram(counts)"
   ]
  },
  {
   "cell_type": "code",
   "execution_count": 14,
   "metadata": {},
   "outputs": [
    {
     "name": "stdout",
     "output_type": "stream",
     "text": [
      "{'00 00 00 00': 25}\n"
     ]
    }
   ],
   "source": [
    "def cleanData(data):\n",
    "    newData = {}\n",
    "    for key in data:\n",
    "        if key == '00 00 00 00':\n",
    "            newData[key] = data[key]\n",
    "    print(data)\n",
    "\n",
    "cleanData(counts)"
   ]
  }
 ],
 "metadata": {
  "kernelspec": {
   "display_name": "Python 3",
   "language": "python",
   "name": "python3"
  },
  "language_info": {
   "codemirror_mode": {
    "name": "ipython",
    "version": 3
   },
   "file_extension": ".py",
   "mimetype": "text/x-python",
   "name": "python",
   "nbconvert_exporter": "python",
   "pygments_lexer": "ipython3",
   "version": "3.9.2"
  },
  "orig_nbformat": 4
 },
 "nbformat": 4,
 "nbformat_minor": 2
}
